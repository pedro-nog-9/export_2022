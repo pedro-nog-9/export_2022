{
  "nbformat": 4,
  "nbformat_minor": 0,
  "metadata": {
    "colab": {
      "provenance": [],
      "collapsed_sections": [
        "ta0FE94OAnfN",
        "nZSGrsx9_O2X",
        "ioYfou6zA9OK",
        "F8PpJT8GBgc9",
        "t2GY5JoCLPZh"
      ],
      "authorship_tag": "ABX9TyOyp//HYvxEp5xmCws1k7qB",
      "include_colab_link": true
    },
    "kernelspec": {
      "name": "python3",
      "display_name": "Python 3"
    },
    "language_info": {
      "name": "python"
    }
  },
  "cells": [
    {
      "cell_type": "markdown",
      "metadata": {
        "id": "view-in-github",
        "colab_type": "text"
      },
      "source": [
        "<a href=\"https://colab.research.google.com/github/pedro-nog-9/export_2022/blob/main/Exporta%C3%A7%C3%B5es_2022.ipynb\" target=\"_parent\"><img src=\"https://colab.research.google.com/assets/colab-badge.svg\" alt=\"Open In Colab\"/></a>"
      ]
    },
    {
      "cell_type": "markdown",
      "source": [
        "# **Análise simples das exportações brasileiras de 2022**\n",
        "Como os US$ 334,1 Bi foram exportados através dos meses, por estado e em quais modais"
      ],
      "metadata": {
        "id": "eBUS712f99s0"
      }
    },
    {
      "cell_type": "markdown",
      "source": [
        "## Leitura inicial dos dados fornecidos pelo Ministério da Economia"
      ],
      "metadata": {
        "id": "ta0FE94OAnfN"
      }
    },
    {
      "cell_type": "code",
      "execution_count": 5,
      "metadata": {
        "id": "k5GivtWPco97"
      },
      "outputs": [],
      "source": [
        "import pandas as pd\n",
        "import seaborn as sns\n",
        "import numpy as np\n",
        "import matplotlib.pyplot as plt"
      ]
    },
    {
      "cell_type": "code",
      "source": [
        "dados = pd.read_csv('EXP_2022.csv', sep = ';')\n",
        "dados"
      ],
      "metadata": {
        "colab": {
          "base_uri": "https://localhost:8080/",
          "height": 424
        },
        "id": "72sfzSHIcwkO",
        "outputId": "50c57396-75b1-410e-9097-bb11fdbbef78"
      },
      "execution_count": 6,
      "outputs": [
        {
          "output_type": "execute_result",
          "data": {
            "text/plain": [
              "         CO_ANO  CO_MES    CO_NCM  CO_UNID  CO_PAIS SG_UF_NCM  CO_VIA  \\\n",
              "0          2022       6  85045000       11       69        MG       4   \n",
              "1          2022       4  39219019       10      586        SP       7   \n",
              "2          2022       1  44071100       16      249        SC       1   \n",
              "3          2022      11  84672100       11      521        RS       1   \n",
              "4          2022      10   8072000       10       23        RN       4   \n",
              "...         ...     ...       ...      ...      ...       ...     ...   \n",
              "1495863    2022      11  32061910       10      845        SP       7   \n",
              "1495864    2022       1  12024200       10      434        AM       1   \n",
              "1495865    2022       9  18040000       21      249        BA       1   \n",
              "1495866    2022       8  16010000       10       99        SC       1   \n",
              "1495867    2022       8  64031900       13       69        RJ       4   \n",
              "\n",
              "          CO_URF  QT_ESTAT  KG_LIQUIDO   VL_FOB  \n",
              "0         817600         2        1399    19576  \n",
              "1         917500      3914        3914    12672  \n",
              "2         927800     21945     8409167  5177394  \n",
              "3         817800        10          25      487  \n",
              "4         417901     55356       55356    71511  \n",
              "...          ...       ...         ...      ...  \n",
              "1495863  1010252       975         975     5489  \n",
              "1495864   227600         4           4       26  \n",
              "1495865   517800       180      180000  1295568  \n",
              "1495866   927800      1820        1820     1930  \n",
              "1495867   817700         1           1       68  \n",
              "\n",
              "[1495868 rows x 11 columns]"
            ],
            "text/html": [
              "\n",
              "  <div id=\"df-cefacc69-2fab-493f-9ed5-1eae35d77945\">\n",
              "    <div class=\"colab-df-container\">\n",
              "      <div>\n",
              "<style scoped>\n",
              "    .dataframe tbody tr th:only-of-type {\n",
              "        vertical-align: middle;\n",
              "    }\n",
              "\n",
              "    .dataframe tbody tr th {\n",
              "        vertical-align: top;\n",
              "    }\n",
              "\n",
              "    .dataframe thead th {\n",
              "        text-align: right;\n",
              "    }\n",
              "</style>\n",
              "<table border=\"1\" class=\"dataframe\">\n",
              "  <thead>\n",
              "    <tr style=\"text-align: right;\">\n",
              "      <th></th>\n",
              "      <th>CO_ANO</th>\n",
              "      <th>CO_MES</th>\n",
              "      <th>CO_NCM</th>\n",
              "      <th>CO_UNID</th>\n",
              "      <th>CO_PAIS</th>\n",
              "      <th>SG_UF_NCM</th>\n",
              "      <th>CO_VIA</th>\n",
              "      <th>CO_URF</th>\n",
              "      <th>QT_ESTAT</th>\n",
              "      <th>KG_LIQUIDO</th>\n",
              "      <th>VL_FOB</th>\n",
              "    </tr>\n",
              "  </thead>\n",
              "  <tbody>\n",
              "    <tr>\n",
              "      <th>0</th>\n",
              "      <td>2022</td>\n",
              "      <td>6</td>\n",
              "      <td>85045000</td>\n",
              "      <td>11</td>\n",
              "      <td>69</td>\n",
              "      <td>MG</td>\n",
              "      <td>4</td>\n",
              "      <td>817600</td>\n",
              "      <td>2</td>\n",
              "      <td>1399</td>\n",
              "      <td>19576</td>\n",
              "    </tr>\n",
              "    <tr>\n",
              "      <th>1</th>\n",
              "      <td>2022</td>\n",
              "      <td>4</td>\n",
              "      <td>39219019</td>\n",
              "      <td>10</td>\n",
              "      <td>586</td>\n",
              "      <td>SP</td>\n",
              "      <td>7</td>\n",
              "      <td>917500</td>\n",
              "      <td>3914</td>\n",
              "      <td>3914</td>\n",
              "      <td>12672</td>\n",
              "    </tr>\n",
              "    <tr>\n",
              "      <th>2</th>\n",
              "      <td>2022</td>\n",
              "      <td>1</td>\n",
              "      <td>44071100</td>\n",
              "      <td>16</td>\n",
              "      <td>249</td>\n",
              "      <td>SC</td>\n",
              "      <td>1</td>\n",
              "      <td>927800</td>\n",
              "      <td>21945</td>\n",
              "      <td>8409167</td>\n",
              "      <td>5177394</td>\n",
              "    </tr>\n",
              "    <tr>\n",
              "      <th>3</th>\n",
              "      <td>2022</td>\n",
              "      <td>11</td>\n",
              "      <td>84672100</td>\n",
              "      <td>11</td>\n",
              "      <td>521</td>\n",
              "      <td>RS</td>\n",
              "      <td>1</td>\n",
              "      <td>817800</td>\n",
              "      <td>10</td>\n",
              "      <td>25</td>\n",
              "      <td>487</td>\n",
              "    </tr>\n",
              "    <tr>\n",
              "      <th>4</th>\n",
              "      <td>2022</td>\n",
              "      <td>10</td>\n",
              "      <td>8072000</td>\n",
              "      <td>10</td>\n",
              "      <td>23</td>\n",
              "      <td>RN</td>\n",
              "      <td>4</td>\n",
              "      <td>417901</td>\n",
              "      <td>55356</td>\n",
              "      <td>55356</td>\n",
              "      <td>71511</td>\n",
              "    </tr>\n",
              "    <tr>\n",
              "      <th>...</th>\n",
              "      <td>...</td>\n",
              "      <td>...</td>\n",
              "      <td>...</td>\n",
              "      <td>...</td>\n",
              "      <td>...</td>\n",
              "      <td>...</td>\n",
              "      <td>...</td>\n",
              "      <td>...</td>\n",
              "      <td>...</td>\n",
              "      <td>...</td>\n",
              "      <td>...</td>\n",
              "    </tr>\n",
              "    <tr>\n",
              "      <th>1495863</th>\n",
              "      <td>2022</td>\n",
              "      <td>11</td>\n",
              "      <td>32061910</td>\n",
              "      <td>10</td>\n",
              "      <td>845</td>\n",
              "      <td>SP</td>\n",
              "      <td>7</td>\n",
              "      <td>1010252</td>\n",
              "      <td>975</td>\n",
              "      <td>975</td>\n",
              "      <td>5489</td>\n",
              "    </tr>\n",
              "    <tr>\n",
              "      <th>1495864</th>\n",
              "      <td>2022</td>\n",
              "      <td>1</td>\n",
              "      <td>12024200</td>\n",
              "      <td>10</td>\n",
              "      <td>434</td>\n",
              "      <td>AM</td>\n",
              "      <td>1</td>\n",
              "      <td>227600</td>\n",
              "      <td>4</td>\n",
              "      <td>4</td>\n",
              "      <td>26</td>\n",
              "    </tr>\n",
              "    <tr>\n",
              "      <th>1495865</th>\n",
              "      <td>2022</td>\n",
              "      <td>9</td>\n",
              "      <td>18040000</td>\n",
              "      <td>21</td>\n",
              "      <td>249</td>\n",
              "      <td>BA</td>\n",
              "      <td>1</td>\n",
              "      <td>517800</td>\n",
              "      <td>180</td>\n",
              "      <td>180000</td>\n",
              "      <td>1295568</td>\n",
              "    </tr>\n",
              "    <tr>\n",
              "      <th>1495866</th>\n",
              "      <td>2022</td>\n",
              "      <td>8</td>\n",
              "      <td>16010000</td>\n",
              "      <td>10</td>\n",
              "      <td>99</td>\n",
              "      <td>SC</td>\n",
              "      <td>1</td>\n",
              "      <td>927800</td>\n",
              "      <td>1820</td>\n",
              "      <td>1820</td>\n",
              "      <td>1930</td>\n",
              "    </tr>\n",
              "    <tr>\n",
              "      <th>1495867</th>\n",
              "      <td>2022</td>\n",
              "      <td>8</td>\n",
              "      <td>64031900</td>\n",
              "      <td>13</td>\n",
              "      <td>69</td>\n",
              "      <td>RJ</td>\n",
              "      <td>4</td>\n",
              "      <td>817700</td>\n",
              "      <td>1</td>\n",
              "      <td>1</td>\n",
              "      <td>68</td>\n",
              "    </tr>\n",
              "  </tbody>\n",
              "</table>\n",
              "<p>1495868 rows × 11 columns</p>\n",
              "</div>\n",
              "      <button class=\"colab-df-convert\" onclick=\"convertToInteractive('df-cefacc69-2fab-493f-9ed5-1eae35d77945')\"\n",
              "              title=\"Convert this dataframe to an interactive table.\"\n",
              "              style=\"display:none;\">\n",
              "        \n",
              "  <svg xmlns=\"http://www.w3.org/2000/svg\" height=\"24px\"viewBox=\"0 0 24 24\"\n",
              "       width=\"24px\">\n",
              "    <path d=\"M0 0h24v24H0V0z\" fill=\"none\"/>\n",
              "    <path d=\"M18.56 5.44l.94 2.06.94-2.06 2.06-.94-2.06-.94-.94-2.06-.94 2.06-2.06.94zm-11 1L8.5 8.5l.94-2.06 2.06-.94-2.06-.94L8.5 2.5l-.94 2.06-2.06.94zm10 10l.94 2.06.94-2.06 2.06-.94-2.06-.94-.94-2.06-.94 2.06-2.06.94z\"/><path d=\"M17.41 7.96l-1.37-1.37c-.4-.4-.92-.59-1.43-.59-.52 0-1.04.2-1.43.59L10.3 9.45l-7.72 7.72c-.78.78-.78 2.05 0 2.83L4 21.41c.39.39.9.59 1.41.59.51 0 1.02-.2 1.41-.59l7.78-7.78 2.81-2.81c.8-.78.8-2.07 0-2.86zM5.41 20L4 18.59l7.72-7.72 1.47 1.35L5.41 20z\"/>\n",
              "  </svg>\n",
              "      </button>\n",
              "      \n",
              "  <style>\n",
              "    .colab-df-container {\n",
              "      display:flex;\n",
              "      flex-wrap:wrap;\n",
              "      gap: 12px;\n",
              "    }\n",
              "\n",
              "    .colab-df-convert {\n",
              "      background-color: #E8F0FE;\n",
              "      border: none;\n",
              "      border-radius: 50%;\n",
              "      cursor: pointer;\n",
              "      display: none;\n",
              "      fill: #1967D2;\n",
              "      height: 32px;\n",
              "      padding: 0 0 0 0;\n",
              "      width: 32px;\n",
              "    }\n",
              "\n",
              "    .colab-df-convert:hover {\n",
              "      background-color: #E2EBFA;\n",
              "      box-shadow: 0px 1px 2px rgba(60, 64, 67, 0.3), 0px 1px 3px 1px rgba(60, 64, 67, 0.15);\n",
              "      fill: #174EA6;\n",
              "    }\n",
              "\n",
              "    [theme=dark] .colab-df-convert {\n",
              "      background-color: #3B4455;\n",
              "      fill: #D2E3FC;\n",
              "    }\n",
              "\n",
              "    [theme=dark] .colab-df-convert:hover {\n",
              "      background-color: #434B5C;\n",
              "      box-shadow: 0px 1px 3px 1px rgba(0, 0, 0, 0.15);\n",
              "      filter: drop-shadow(0px 1px 2px rgba(0, 0, 0, 0.3));\n",
              "      fill: #FFFFFF;\n",
              "    }\n",
              "  </style>\n",
              "\n",
              "      <script>\n",
              "        const buttonEl =\n",
              "          document.querySelector('#df-cefacc69-2fab-493f-9ed5-1eae35d77945 button.colab-df-convert');\n",
              "        buttonEl.style.display =\n",
              "          google.colab.kernel.accessAllowed ? 'block' : 'none';\n",
              "\n",
              "        async function convertToInteractive(key) {\n",
              "          const element = document.querySelector('#df-cefacc69-2fab-493f-9ed5-1eae35d77945');\n",
              "          const dataTable =\n",
              "            await google.colab.kernel.invokeFunction('convertToInteractive',\n",
              "                                                     [key], {});\n",
              "          if (!dataTable) return;\n",
              "\n",
              "          const docLinkHtml = 'Like what you see? Visit the ' +\n",
              "            '<a target=\"_blank\" href=https://colab.research.google.com/notebooks/data_table.ipynb>data table notebook</a>'\n",
              "            + ' to learn more about interactive tables.';\n",
              "          element.innerHTML = '';\n",
              "          dataTable['output_type'] = 'display_data';\n",
              "          await google.colab.output.renderOutput(dataTable, element);\n",
              "          const docLink = document.createElement('div');\n",
              "          docLink.innerHTML = docLinkHtml;\n",
              "          element.appendChild(docLink);\n",
              "        }\n",
              "      </script>\n",
              "    </div>\n",
              "  </div>\n",
              "  "
            ]
          },
          "metadata": {},
          "execution_count": 6
        }
      ]
    },
    {
      "cell_type": "code",
      "source": [
        "# Detalhamento inicial da base de dados\n",
        "\n",
        "dados.info()"
      ],
      "metadata": {
        "colab": {
          "base_uri": "https://localhost:8080/"
        },
        "id": "PierYh2ieT8U",
        "outputId": "39f38221-0f0e-44c6-a8cf-f46d4bdb3cac"
      },
      "execution_count": 7,
      "outputs": [
        {
          "output_type": "stream",
          "name": "stdout",
          "text": [
            "<class 'pandas.core.frame.DataFrame'>\n",
            "RangeIndex: 1495868 entries, 0 to 1495867\n",
            "Data columns (total 11 columns):\n",
            " #   Column      Non-Null Count    Dtype \n",
            "---  ------      --------------    ----- \n",
            " 0   CO_ANO      1495868 non-null  int64 \n",
            " 1   CO_MES      1495868 non-null  int64 \n",
            " 2   CO_NCM      1495868 non-null  int64 \n",
            " 3   CO_UNID     1495868 non-null  int64 \n",
            " 4   CO_PAIS     1495868 non-null  int64 \n",
            " 5   SG_UF_NCM   1495868 non-null  object\n",
            " 6   CO_VIA      1495868 non-null  int64 \n",
            " 7   CO_URF      1495868 non-null  int64 \n",
            " 8   QT_ESTAT    1495868 non-null  int64 \n",
            " 9   KG_LIQUIDO  1495868 non-null  int64 \n",
            " 10  VL_FOB      1495868 non-null  int64 \n",
            "dtypes: int64(10), object(1)\n",
            "memory usage: 125.5+ MB\n"
          ]
        }
      ]
    },
    {
      "cell_type": "code",
      "source": [
        "# Não possui itens nulos, não é preciso tratar isso\n",
        "# Todos os valores são inteiros com a excessão da coluna dos Estados.\n",
        "# São 11 colunas e 1.495.868 linhas"
      ],
      "metadata": {
        "id": "7I_cEcGHebau"
      },
      "execution_count": 8,
      "outputs": []
    },
    {
      "cell_type": "markdown",
      "source": [
        "## 1. Total exportado por mês"
      ],
      "metadata": {
        "id": "nZSGrsx9_O2X"
      }
    },
    {
      "cell_type": "code",
      "source": [
        "# colocando os nomes dos meses\n",
        "# convertendo para Bilhões de US$\n",
        "\n",
        "mes = {1: 'Jan', 2:'Fev', 3:'Mar', 4: 'Abr', 5:'Mai', 6:'Jun', 7:'Jul', 8:'Ago', 9:'Set', 10:'Out', 11:'Nov', 12:'Dez'}\n",
        "colunas = {'': 'US$ Bi'}\n",
        "\n",
        "val_mes = pd.crosstab('', dados.CO_MES, aggfunc = 'sum', values = dados.VL_FOB/1000000000)\n",
        "val_mes.rename(columns = mes, inplace = True)\n",
        "val_mes.rename_axis('Meses', axis = 'columns', inplace = True)\n",
        "val_mes.rename_axis('', axis = 'rows', inplace = True)\n",
        "val_mes.rename(index = colunas, inplace = True)\n",
        "val_mes.T"
      ],
      "metadata": {
        "colab": {
          "base_uri": "https://localhost:8080/",
          "height": 457
        },
        "id": "YSjn_3fpequ9",
        "outputId": "69aa7076-8cc1-4ff5-eb85-1c0f32898233"
      },
      "execution_count": 10,
      "outputs": [
        {
          "output_type": "execute_result",
          "data": {
            "text/plain": [
              "          US$ Bi\n",
              "Meses           \n",
              "Jan    19.779929\n",
              "Fev    23.513305\n",
              "Mar    29.422320\n",
              "Abr    28.969695\n",
              "Mai    29.642851\n",
              "Jun    32.742195\n",
              "Jul    29.844325\n",
              "Ago    30.786909\n",
              "Set    28.587334\n",
              "Out    26.852476\n",
              "Nov    27.652303\n",
              "Dez    26.342396"
            ],
            "text/html": [
              "\n",
              "  <div id=\"df-87f5866c-6e62-43fb-b8a7-6381463b8ce2\">\n",
              "    <div class=\"colab-df-container\">\n",
              "      <div>\n",
              "<style scoped>\n",
              "    .dataframe tbody tr th:only-of-type {\n",
              "        vertical-align: middle;\n",
              "    }\n",
              "\n",
              "    .dataframe tbody tr th {\n",
              "        vertical-align: top;\n",
              "    }\n",
              "\n",
              "    .dataframe thead th {\n",
              "        text-align: right;\n",
              "    }\n",
              "</style>\n",
              "<table border=\"1\" class=\"dataframe\">\n",
              "  <thead>\n",
              "    <tr style=\"text-align: right;\">\n",
              "      <th></th>\n",
              "      <th>US$ Bi</th>\n",
              "    </tr>\n",
              "    <tr>\n",
              "      <th>Meses</th>\n",
              "      <th></th>\n",
              "    </tr>\n",
              "  </thead>\n",
              "  <tbody>\n",
              "    <tr>\n",
              "      <th>Jan</th>\n",
              "      <td>19.779929</td>\n",
              "    </tr>\n",
              "    <tr>\n",
              "      <th>Fev</th>\n",
              "      <td>23.513305</td>\n",
              "    </tr>\n",
              "    <tr>\n",
              "      <th>Mar</th>\n",
              "      <td>29.422320</td>\n",
              "    </tr>\n",
              "    <tr>\n",
              "      <th>Abr</th>\n",
              "      <td>28.969695</td>\n",
              "    </tr>\n",
              "    <tr>\n",
              "      <th>Mai</th>\n",
              "      <td>29.642851</td>\n",
              "    </tr>\n",
              "    <tr>\n",
              "      <th>Jun</th>\n",
              "      <td>32.742195</td>\n",
              "    </tr>\n",
              "    <tr>\n",
              "      <th>Jul</th>\n",
              "      <td>29.844325</td>\n",
              "    </tr>\n",
              "    <tr>\n",
              "      <th>Ago</th>\n",
              "      <td>30.786909</td>\n",
              "    </tr>\n",
              "    <tr>\n",
              "      <th>Set</th>\n",
              "      <td>28.587334</td>\n",
              "    </tr>\n",
              "    <tr>\n",
              "      <th>Out</th>\n",
              "      <td>26.852476</td>\n",
              "    </tr>\n",
              "    <tr>\n",
              "      <th>Nov</th>\n",
              "      <td>27.652303</td>\n",
              "    </tr>\n",
              "    <tr>\n",
              "      <th>Dez</th>\n",
              "      <td>26.342396</td>\n",
              "    </tr>\n",
              "  </tbody>\n",
              "</table>\n",
              "</div>\n",
              "      <button class=\"colab-df-convert\" onclick=\"convertToInteractive('df-87f5866c-6e62-43fb-b8a7-6381463b8ce2')\"\n",
              "              title=\"Convert this dataframe to an interactive table.\"\n",
              "              style=\"display:none;\">\n",
              "        \n",
              "  <svg xmlns=\"http://www.w3.org/2000/svg\" height=\"24px\"viewBox=\"0 0 24 24\"\n",
              "       width=\"24px\">\n",
              "    <path d=\"M0 0h24v24H0V0z\" fill=\"none\"/>\n",
              "    <path d=\"M18.56 5.44l.94 2.06.94-2.06 2.06-.94-2.06-.94-.94-2.06-.94 2.06-2.06.94zm-11 1L8.5 8.5l.94-2.06 2.06-.94-2.06-.94L8.5 2.5l-.94 2.06-2.06.94zm10 10l.94 2.06.94-2.06 2.06-.94-2.06-.94-.94-2.06-.94 2.06-2.06.94z\"/><path d=\"M17.41 7.96l-1.37-1.37c-.4-.4-.92-.59-1.43-.59-.52 0-1.04.2-1.43.59L10.3 9.45l-7.72 7.72c-.78.78-.78 2.05 0 2.83L4 21.41c.39.39.9.59 1.41.59.51 0 1.02-.2 1.41-.59l7.78-7.78 2.81-2.81c.8-.78.8-2.07 0-2.86zM5.41 20L4 18.59l7.72-7.72 1.47 1.35L5.41 20z\"/>\n",
              "  </svg>\n",
              "      </button>\n",
              "      \n",
              "  <style>\n",
              "    .colab-df-container {\n",
              "      display:flex;\n",
              "      flex-wrap:wrap;\n",
              "      gap: 12px;\n",
              "    }\n",
              "\n",
              "    .colab-df-convert {\n",
              "      background-color: #E8F0FE;\n",
              "      border: none;\n",
              "      border-radius: 50%;\n",
              "      cursor: pointer;\n",
              "      display: none;\n",
              "      fill: #1967D2;\n",
              "      height: 32px;\n",
              "      padding: 0 0 0 0;\n",
              "      width: 32px;\n",
              "    }\n",
              "\n",
              "    .colab-df-convert:hover {\n",
              "      background-color: #E2EBFA;\n",
              "      box-shadow: 0px 1px 2px rgba(60, 64, 67, 0.3), 0px 1px 3px 1px rgba(60, 64, 67, 0.15);\n",
              "      fill: #174EA6;\n",
              "    }\n",
              "\n",
              "    [theme=dark] .colab-df-convert {\n",
              "      background-color: #3B4455;\n",
              "      fill: #D2E3FC;\n",
              "    }\n",
              "\n",
              "    [theme=dark] .colab-df-convert:hover {\n",
              "      background-color: #434B5C;\n",
              "      box-shadow: 0px 1px 3px 1px rgba(0, 0, 0, 0.15);\n",
              "      filter: drop-shadow(0px 1px 2px rgba(0, 0, 0, 0.3));\n",
              "      fill: #FFFFFF;\n",
              "    }\n",
              "  </style>\n",
              "\n",
              "      <script>\n",
              "        const buttonEl =\n",
              "          document.querySelector('#df-87f5866c-6e62-43fb-b8a7-6381463b8ce2 button.colab-df-convert');\n",
              "        buttonEl.style.display =\n",
              "          google.colab.kernel.accessAllowed ? 'block' : 'none';\n",
              "\n",
              "        async function convertToInteractive(key) {\n",
              "          const element = document.querySelector('#df-87f5866c-6e62-43fb-b8a7-6381463b8ce2');\n",
              "          const dataTable =\n",
              "            await google.colab.kernel.invokeFunction('convertToInteractive',\n",
              "                                                     [key], {});\n",
              "          if (!dataTable) return;\n",
              "\n",
              "          const docLinkHtml = 'Like what you see? Visit the ' +\n",
              "            '<a target=\"_blank\" href=https://colab.research.google.com/notebooks/data_table.ipynb>data table notebook</a>'\n",
              "            + ' to learn more about interactive tables.';\n",
              "          element.innerHTML = '';\n",
              "          dataTable['output_type'] = 'display_data';\n",
              "          await google.colab.output.renderOutput(dataTable, element);\n",
              "          const docLink = document.createElement('div');\n",
              "          docLink.innerHTML = docLinkHtml;\n",
              "          element.appendChild(docLink);\n",
              "        }\n",
              "      </script>\n",
              "    </div>\n",
              "  </div>\n",
              "  "
            ]
          },
          "metadata": {},
          "execution_count": 10
        }
      ]
    },
    {
      "cell_type": "code",
      "source": [
        "# Gráfico de barras com o valor das exportações mensais\n",
        "\n",
        "ax = sns.barplot(data = val_mes, color = 'blue')\n",
        "ax.figure.set_size_inches(20, 5)\n",
        "ax.set_title('Exportações brasileiras por mês - 2022 (US$ Bi)', fontsize=20)\n",
        "ax"
      ],
      "metadata": {
        "id": "WGuqC1NBezPI",
        "colab": {
          "base_uri": "https://localhost:8080/",
          "height": 312
        },
        "outputId": "55a1c9a4-32e2-46f8-c346-2c482e336e0e"
      },
      "execution_count": 11,
      "outputs": [
        {
          "output_type": "execute_result",
          "data": {
            "text/plain": [
              "<AxesSubplot:title={'center':'Exportações brasileiras por mês - 2022 (US$ Bi)'}, xlabel='Meses'>"
            ]
          },
          "metadata": {},
          "execution_count": 11
        },
        {
          "output_type": "display_data",
          "data": {
            "text/plain": [
              "<Figure size 1440x360 with 1 Axes>"
            ],
            "image/png": "[encoded data removed]"
          },
          "metadata": {
            "needs_background": "light"
          }
        }
      ]
    },
    {
      "cell_type": "markdown",
      "source": [
        "## 2. Total exportado por Estado"
      ],
      "metadata": {
        "id": "ioYfou6zA9OK"
      }
    },
    {
      "cell_type": "code",
      "source": [
        "# Gerando a tabela de valores por estado\n",
        "\n",
        "colunas = {'':'US$ Bi'}\n",
        "\n",
        "val_est = pd.crosstab('', dados.SG_UF_NCM, aggfunc = 'sum', values = dados.VL_FOB/1000000000)\n",
        "val_est.rename_axis('', axis = 'rows', inplace = True)\n",
        "val_est.rename_axis('Estado', axis = 'columns', inplace = True)\n",
        "val_est.sort_values(by='', axis = 1, ascending = False, inplace = True)\n",
        "val_est.rename(index = colunas, inplace = True)\n",
        "val_est.T"
      ],
      "metadata": {
        "id": "Ig3csZXdZDC8",
        "colab": {
          "base_uri": "https://localhost:8080/",
          "height": 959
        },
        "outputId": "38ca109f-5ad6-4626-82ce-b7c899d0c1cc"
      },
      "execution_count": 13,
      "outputs": [
        {
          "output_type": "execute_result",
          "data": {
            "text/plain": [
              "           US$ Bi\n",
              "Estado           \n",
              "SP      69.630558\n",
              "RJ      45.513895\n",
              "MG      40.194082\n",
              "MT      32.507577\n",
              "RS      22.564741\n",
              "PR      22.132924\n",
              "PA      21.515318\n",
              "GO      14.147957\n",
              "BA      13.922502\n",
              "SC      11.966469\n",
              "ES       9.128591\n",
              "MS       8.212503\n",
              "MA       5.737972\n",
              "TO       3.087624\n",
              "PE       2.488252\n",
              "RO       2.344178\n",
              "CE       2.340538\n",
              "PI       1.654072\n",
              "ND       1.495179\n",
              "AM       0.903837\n",
              "RN       0.736672\n",
              "AL       0.588293\n",
              "RR       0.425912\n",
              "DF       0.365685\n",
              "AP       0.209147\n",
              "PB       0.148937\n",
              "SE       0.118258\n",
              "AC       0.054366"
            ],
            "text/html": [
              "\n",
              "  <div id=\"df-88309da0-bba2-4447-a1e7-4f60fb46b0be\">\n",
              "    <div class=\"colab-df-container\">\n",
              "      <div>\n",
              "<style scoped>\n",
              "    .dataframe tbody tr th:only-of-type {\n",
              "        vertical-align: middle;\n",
              "    }\n",
              "\n",
              "    .dataframe tbody tr th {\n",
              "        vertical-align: top;\n",
              "    }\n",
              "\n",
              "    .dataframe thead th {\n",
              "        text-align: right;\n",
              "    }\n",
              "</style>\n",
              "<table border=\"1\" class=\"dataframe\">\n",
              "  <thead>\n",
              "    <tr style=\"text-align: right;\">\n",
              "      <th></th>\n",
              "      <th>US$ Bi</th>\n",
              "    </tr>\n",
              "    <tr>\n",
              "      <th>Estado</th>\n",
              "      <th></th>\n",
              "    </tr>\n",
              "  </thead>\n",
              "  <tbody>\n",
              "    <tr>\n",
              "      <th>SP</th>\n",
              "      <td>69.630558</td>\n",
              "    </tr>\n",
              "    <tr>\n",
              "      <th>RJ</th>\n",
              "      <td>45.513895</td>\n",
              "    </tr>\n",
              "    <tr>\n",
              "      <th>MG</th>\n",
              "      <td>40.194082</td>\n",
              "    </tr>\n",
              "    <tr>\n",
              "      <th>MT</th>\n",
              "      <td>32.507577</td>\n",
              "    </tr>\n",
              "    <tr>\n",
              "      <th>RS</th>\n",
              "      <td>22.564741</td>\n",
              "    </tr>\n",
              "    <tr>\n",
              "      <th>PR</th>\n",
              "      <td>22.132924</td>\n",
              "    </tr>\n",
              "    <tr>\n",
              "      <th>PA</th>\n",
              "      <td>21.515318</td>\n",
              "    </tr>\n",
              "    <tr>\n",
              "      <th>GO</th>\n",
              "      <td>14.147957</td>\n",
              "    </tr>\n",
              "    <tr>\n",
              "      <th>BA</th>\n",
              "      <td>13.922502</td>\n",
              "    </tr>\n",
              "    <tr>\n",
              "      <th>SC</th>\n",
              "      <td>11.966469</td>\n",
              "    </tr>\n",
              "    <tr>\n",
              "      <th>ES</th>\n",
              "      <td>9.128591</td>\n",
              "    </tr>\n",
              "    <tr>\n",
              "      <th>MS</th>\n",
              "      <td>8.212503</td>\n",
              "    </tr>\n",
              "    <tr>\n",
              "      <th>MA</th>\n",
              "      <td>5.737972</td>\n",
              "    </tr>\n",
              "    <tr>\n",
              "      <th>TO</th>\n",
              "      <td>3.087624</td>\n",
              "    </tr>\n",
              "    <tr>\n",
              "      <th>PE</th>\n",
              "      <td>2.488252</td>\n",
              "    </tr>\n",
              "    <tr>\n",
              "      <th>RO</th>\n",
              "      <td>2.344178</td>\n",
              "    </tr>\n",
              "    <tr>\n",
              "      <th>CE</th>\n",
              "      <td>2.340538</td>\n",
              "    </tr>\n",
              "    <tr>\n",
              "      <th>PI</th>\n",
              "      <td>1.654072</td>\n",
              "    </tr>\n",
              "    <tr>\n",
              "      <th>ND</th>\n",
              "      <td>1.495179</td>\n",
              "    </tr>\n",
              "    <tr>\n",
              "      <th>AM</th>\n",
              "      <td>0.903837</td>\n",
              "    </tr>\n",
              "    <tr>\n",
              "      <th>RN</th>\n",
              "      <td>0.736672</td>\n",
              "    </tr>\n",
              "    <tr>\n",
              "      <th>AL</th>\n",
              "      <td>0.588293</td>\n",
              "    </tr>\n",
              "    <tr>\n",
              "      <th>RR</th>\n",
              "      <td>0.425912</td>\n",
              "    </tr>\n",
              "    <tr>\n",
              "      <th>DF</th>\n",
              "      <td>0.365685</td>\n",
              "    </tr>\n",
              "    <tr>\n",
              "      <th>AP</th>\n",
              "      <td>0.209147</td>\n",
              "    </tr>\n",
              "    <tr>\n",
              "      <th>PB</th>\n",
              "      <td>0.148937</td>\n",
              "    </tr>\n",
              "    <tr>\n",
              "      <th>SE</th>\n",
              "      <td>0.118258</td>\n",
              "    </tr>\n",
              "    <tr>\n",
              "      <th>AC</th>\n",
              "      <td>0.054366</td>\n",
              "    </tr>\n",
              "  </tbody>\n",
              "</table>\n",
              "</div>\n",
              "      <button class=\"colab-df-convert\" onclick=\"convertToInteractive('df-88309da0-bba2-4447-a1e7-4f60fb46b0be')\"\n",
              "              title=\"Convert this dataframe to an interactive table.\"\n",
              "              style=\"display:none;\">\n",
              "        \n",
              "  <svg xmlns=\"http://www.w3.org/2000/svg\" height=\"24px\"viewBox=\"0 0 24 24\"\n",
              "       width=\"24px\">\n",
              "    <path d=\"M0 0h24v24H0V0z\" fill=\"none\"/>\n",
              "    <path d=\"M18.56 5.44l.94 2.06.94-2.06 2.06-.94-2.06-.94-.94-2.06-.94 2.06-2.06.94zm-11 1L8.5 8.5l.94-2.06 2.06-.94-2.06-.94L8.5 2.5l-.94 2.06-2.06.94zm10 10l.94 2.06.94-2.06 2.06-.94-2.06-.94-.94-2.06-.94 2.06-2.06.94z\"/><path d=\"M17.41 7.96l-1.37-1.37c-.4-.4-.92-.59-1.43-.59-.52 0-1.04.2-1.43.59L10.3 9.45l-7.72 7.72c-.78.78-.78 2.05 0 2.83L4 21.41c.39.39.9.59 1.41.59.51 0 1.02-.2 1.41-.59l7.78-7.78 2.81-2.81c.8-.78.8-2.07 0-2.86zM5.41 20L4 18.59l7.72-7.72 1.47 1.35L5.41 20z\"/>\n",
              "  </svg>\n",
              "      </button>\n",
              "      \n",
              "  <style>\n",
              "    .colab-df-container {\n",
              "      display:flex;\n",
              "      flex-wrap:wrap;\n",
              "      gap: 12px;\n",
              "    }\n",
              "\n",
              "    .colab-df-convert {\n",
              "      background-color: #E8F0FE;\n",
              "      border: none;\n",
              "      border-radius: 50%;\n",
              "      cursor: pointer;\n",
              "      display: none;\n",
              "      fill: #1967D2;\n",
              "      height: 32px;\n",
              "      padding: 0 0 0 0;\n",
              "      width: 32px;\n",
              "    }\n",
              "\n",
              "    .colab-df-convert:hover {\n",
              "      background-color: #E2EBFA;\n",
              "      box-shadow: 0px 1px 2px rgba(60, 64, 67, 0.3), 0px 1px 3px 1px rgba(60, 64, 67, 0.15);\n",
              "      fill: #174EA6;\n",
              "    }\n",
              "\n",
              "    [theme=dark] .colab-df-convert {\n",
              "      background-color: #3B4455;\n",
              "      fill: #D2E3FC;\n",
              "    }\n",
              "\n",
              "    [theme=dark] .colab-df-convert:hover {\n",
              "      background-color: #434B5C;\n",
              "      box-shadow: 0px 1px 3px 1px rgba(0, 0, 0, 0.15);\n",
              "      filter: drop-shadow(0px 1px 2px rgba(0, 0, 0, 0.3));\n",
              "      fill: #FFFFFF;\n",
              "    }\n",
              "  </style>\n",
              "\n",
              "      <script>\n",
              "        const buttonEl =\n",
              "          document.querySelector('#df-88309da0-bba2-4447-a1e7-4f60fb46b0be button.colab-df-convert');\n",
              "        buttonEl.style.display =\n",
              "          google.colab.kernel.accessAllowed ? 'block' : 'none';\n",
              "\n",
              "        async function convertToInteractive(key) {\n",
              "          const element = document.querySelector('#df-88309da0-bba2-4447-a1e7-4f60fb46b0be');\n",
              "          const dataTable =\n",
              "            await google.colab.kernel.invokeFunction('convertToInteractive',\n",
              "                                                     [key], {});\n",
              "          if (!dataTable) return;\n",
              "\n",
              "          const docLinkHtml = 'Like what you see? Visit the ' +\n",
              "            '<a target=\"_blank\" href=https://colab.research.google.com/notebooks/data_table.ipynb>data table notebook</a>'\n",
              "            + ' to learn more about interactive tables.';\n",
              "          element.innerHTML = '';\n",
              "          dataTable['output_type'] = 'display_data';\n",
              "          await google.colab.output.renderOutput(dataTable, element);\n",
              "          const docLink = document.createElement('div');\n",
              "          docLink.innerHTML = docLinkHtml;\n",
              "          element.appendChild(docLink);\n",
              "        }\n",
              "      </script>\n",
              "    </div>\n",
              "  </div>\n",
              "  "
            ]
          },
          "metadata": {},
          "execution_count": 13
        }
      ]
    },
    {
      "cell_type": "code",
      "source": [
        "# Gerando o gráfico das exportações por estado\n",
        "\n",
        "ax = sns.barplot(data = val_est, color = 'blue')\n",
        "ax.figure.set_size_inches(20, 5)\n",
        "ax.set_title('(US$ Bi) Exportações brasileiras por Estado - 2022', fontsize=20)\n",
        "ax"
      ],
      "metadata": {
        "colab": {
          "base_uri": "https://localhost:8080/",
          "height": 312
        },
        "id": "1064__w6m2zr",
        "outputId": "04387958-859f-466f-eb21-d0b6eeb63611"
      },
      "execution_count": 14,
      "outputs": [
        {
          "output_type": "execute_result",
          "data": {
            "text/plain": [
              "<AxesSubplot:title={'center':'(US$ Bi) Exportações brasileiras por Estado - 2022'}, xlabel='Estado'>"
            ]
          },
          "metadata": {},
          "execution_count": 14
        },
        {
          "output_type": "display_data",
          "data": {
            "text/plain": [
              "<Figure size 1440x360 with 1 Axes>"
            ],
            "image/png": "[encoded data removed]"
          },
          "metadata": {
            "needs_background": "light"
          }
        }
      ]
    },
    {
      "cell_type": "markdown",
      "source": [
        "## 3. Modais utilizados nas exportações"
      ],
      "metadata": {
        "id": "F8PpJT8GBgc9"
      }
    },
    {
      "cell_type": "markdown",
      "source": [
        "Em um arquivo cvs separado, o Ministério da Economia fornece uma tabela de códigos para conversão, eis abaixo a conversão dos modais da coluna 'CO_FIA' que utilizaremos adiante na elaboração de uma Series e posteriormente gerar o gráfico\n"
      ],
      "metadata": {
        "id": "2CObkMxTJ92l"
      }
    },
    {
      "cell_type": "code",
      "source": [
        "vias = {0: 'Não Declarada',\n",
        "        1: 'Marítima',\n",
        "        2: 'Fluvial',\n",
        "        3: 'Lacustre',\n",
        "        4: 'Aérea',\n",
        "        5: 'Postal',\n",
        "        6: 'Ferroviária',\n",
        "        7: 'Rodoviária',\n",
        "        8: 'Conduto/Rede de Transmissão',\n",
        "        9: 'Meios Próprios',\n",
        "        10: 'Entrada/Saída Ficta',\n",
        "        11: 'Courier',\n",
        "        12: 'Em mãos',\n",
        "        13: 'Por Reboque',\n",
        "        14: 'Dutos',\n",
        "        15: 'Vicinal Fronteiriço',\n",
        "        99: 'Desconhecida'}\n",
        "transporte = pd.Series(dados.CO_VIA.value_counts())\n",
        "transporte.rename(index = vias, inplace = True)\n",
        "transporte"
      ],
      "metadata": {
        "colab": {
          "base_uri": "https://localhost:8080/"
        },
        "id": "amo15Sh9Z5tT",
        "outputId": "9513602c-2f39-478c-841b-029070d7e198"
      },
      "execution_count": 15,
      "outputs": [
        {
          "output_type": "execute_result",
          "data": {
            "text/plain": [
              "Marítima                       756195\n",
              "Aérea                          439154\n",
              "Rodoviária                     266572\n",
              "Vicinal Fronteiriço             17284\n",
              "Não Declarada                   13098\n",
              "Em mãos                          1630\n",
              "Meios Próprios                   1480\n",
              "Ferroviária                       367\n",
              "Fluvial                            58\n",
              "Conduto/Rede de Transmissão         9\n",
              "Lacustre                            9\n",
              "Por Reboque                         6\n",
              "Dutos                               6\n",
              "Name: CO_VIA, dtype: int64"
            ]
          },
          "metadata": {},
          "execution_count": 15
        }
      ]
    },
    {
      "cell_type": "markdown",
      "source": [
        "O gráfico de pizza não é gerado a partir de um DataFrame e nem de uma Series (formato em que se encontram os dados nessa célula anterior), para um gráfico de pizza é necessário decompor essa Series em listas"
      ],
      "metadata": {
        "id": "N2AynFjoKgRs"
      }
    },
    {
      "cell_type": "code",
      "source": [
        "#Decompondo a Series em listas:\n",
        "\n",
        "transporte = pd.Series(dados.CO_VIA.value_counts())\n",
        "transporte.rename(index = vias, inplace = True)\n",
        "modal = transporte.index.tolist()\n",
        "qtd = transporte.tolist()\n",
        "explode = (0.1, 0.0, 0.1, 0.1, 0.0, 0.0, 0.1, 0.0, 0.1, 0.2, 0.3, 0.4, 0.5)"
      ],
      "metadata": {
        "id": "hMkgMh1TcaU3"
      },
      "execution_count": 26,
      "outputs": []
    },
    {
      "cell_type": "code",
      "source": [
        "# gerando o gráfico de pizza\n",
        "\n",
        "fig = plt.figure(figsize = (20, 7))\n",
        "plt.pie(qtd, pctdistance = 1, explode = explode, autopct = '%1.1f%%')\n",
        "plt.legend(modal, loc = 'upper left', title = 'Modais')\n",
        "\n",
        "plt.show()"
      ],
      "metadata": {
        "colab": {
          "base_uri": "https://localhost:8080/",
          "height": 411
        },
        "id": "ZgXVNR8JgJ_v",
        "outputId": "4a152cc8-c6b6-4446-ef64-f2655530ff26"
      },
      "execution_count": 27,
      "outputs": [
        {
          "output_type": "display_data",
          "data": {
            "text/plain": [
              "<Figure size 1440x504 with 1 Axes>"
            ],
            "image/png": "[encoded data removed]"
          },
          "metadata": {}
        }
      ]
    },
    {
      "cell_type": "markdown",
      "source": [
        "Repare que, por ter muitas opções, o matplot repetiu as 3 últimas cores, que, mesmo sendo irrelevantes no montante total (Dutos, 6 ocorrências; Por reboque, 6; Lacustre, 9 e Conduto/Rede com 9), precisam ser retiradas para fins de organização"
      ],
      "metadata": {
        "id": "0dfwV4-MK1zI"
      }
    },
    {
      "cell_type": "code",
      "source": [
        "# apagando os 4 últimos da lista e substituindo por 'Outros'\n",
        "\n",
        "for i in range(4):\n",
        "  modal.pop()\n",
        "  qtd.pop()\n",
        "\n",
        "qtd.append(6+6+9+9)\n",
        "modal.append('Outros')\n",
        "explode = (0.1, 0.0, 0.1, 0.1, 0.0, 0.0, 0.1, 0.0, 0.1, 0.2)"
      ],
      "metadata": {
        "id": "8YorrEgTVu6r"
      },
      "execution_count": 29,
      "outputs": []
    },
    {
      "cell_type": "code",
      "source": [
        "# gerando o novo gráfico\n",
        "\n",
        "fig = plt.figure(figsize = (20, 7))\n",
        "plt.pie(qtd, pctdistance = 1, explode = explode, autopct = '%1.1f%%')\n",
        "plt.legend(modal, loc = 'upper left', title = 'Modais')\n",
        "\n",
        "plt.show()"
      ],
      "metadata": {
        "colab": {
          "base_uri": "https://localhost:8080/",
          "height": 411
        },
        "id": "G-tyZDF7Y9Yl",
        "outputId": "c48575fe-5c23-4e96-e707-d43c14b0ec20"
      },
      "execution_count": 30,
      "outputs": [
        {
          "output_type": "display_data",
          "data": {
            "text/plain": [
              "<Figure size 1440x504 with 1 Axes>"
            ],
            "image/png": "[encoded data removed]"
          },
          "metadata": {}
        }
      ]
    },
    {
      "cell_type": "markdown",
      "source": [
        "## 4. Conclusão"
      ],
      "metadata": {
        "id": "t2GY5JoCLPZh"
      }
    },
    {
      "cell_type": "markdown",
      "source": [
        "Podemos perceber aqui, que o mês de junho apresentou o maior montade exportado; São Paulo é consideravelmente o estado mais exportador em valores e; os principais modais utilizados na saída de cargas do país são: marítimo, aéreo e rodoviário com, respectivamente, 50,6%, 29,4% e 17,8% de participação."
      ],
      "metadata": {
        "id": "xeekZWxrEcUC"
      }
    }
  ]
}